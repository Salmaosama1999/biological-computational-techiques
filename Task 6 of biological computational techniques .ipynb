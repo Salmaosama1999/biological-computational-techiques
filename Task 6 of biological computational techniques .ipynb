{
 "cells": [
  {
   "cell_type": "markdown",
   "id": "e8a2169f",
   "metadata": {},
   "source": [
    "# section 6"
   ]
  },
  {
   "cell_type": "code",
   "execution_count": 3,
   "id": "131de411",
   "metadata": {
    "ExecuteTime": {
     "end_time": "2021-12-17T16:35:32.701070Z",
     "start_time": "2021-12-17T16:35:31.685598Z"
    }
   },
   "outputs": [],
   "source": [
    "from urllib.request import urlretrieve\n",
    "from pyopenms import *\n",
    "gh = \"https://raw.githubusercontent.com/OpenMS/pyopenms-extra/master\"\n",
    "urlretrieve (gh + \"/src/data/YIC(Carbamidomethyl)DNQDTISSK.mzML\", \"observed.mzML\")\n",
    "\n",
    "exp = MSExperiment()\n",
    "# Load mzML file and obtain spectrum for peptide YIC(Carbamidomethyl)DNQDTISSK\n",
    "MzMLFile().load(\"observed.mzML\", exp)\n",
    "\n",
    "# Get first spectrum\n",
    "spectra = exp.getSpectra()\n",
    "observed_spectrum = spectra[0]\n",
    "tsg = TheoreticalSpectrumGenerator()\n",
    "theo_spectrum = MSSpectrum()\n",
    "p = tsg.getParameters()\n",
    "p.setValue(\"add_y_ions\", \"true\")\n",
    "p.setValue(\"add_b_ions\", \"true\")\n",
    "p.setValue(\"add_metainfo\", \"true\")\n",
    "tsg.setParameters(p)\n",
    "peptide = AASequence.fromString(\"YIC(Carbamidomethyl)DNQDTISSK\")\n",
    "tsg.getSpectrum(theo_spectrum, peptide, 1, 2)"
   ]
  },
  {
   "cell_type": "code",
   "execution_count": 4,
   "id": "41387fcb",
   "metadata": {
    "ExecuteTime": {
     "end_time": "2021-12-17T16:35:35.405977Z",
     "start_time": "2021-12-17T16:35:34.167858Z"
    }
   },
   "outputs": [
    {
     "name": "stdout",
     "output_type": "stream",
     "text": [
      "212.012451171875\n",
      "795.2837524414062\n"
     ]
    },
    {
     "data": {
      "image/png": "[encoded data removed]",
      "text/plain": [
       "<Figure size 864x576 with 1 Axes>"
      ]
     },
     "metadata": {
      "needs_background": "light"
     },
     "output_type": "display_data"
    }
   ],
   "source": [
    "import numpy as np\n",
    "from matplotlib import pyplot as plt\n",
    "\n",
    "def mirror_plot(obs_mz, obs_int, theo_mz, theo_int, title):\n",
    "    obs_int = [element / max(obs_int) for element in obs_int] # relative intenstiy\n",
    "    theo_int = [element * -1 for element in theo_int] # invert the intensity for the mirror plot\n",
    "    plt.figure(figsize=(12,8))\n",
    "    plt.bar(obs_mz, obs_int, width = 3.0)\n",
    "    plt.bar(theo_mz, theo_int, width = 3.0)\n",
    "    plt.title(title)\n",
    "    plt.ylabel('intensity')\n",
    "    plt.xlabel('m/z')\n",
    "\n",
    "obs_mz, obs_int = observed_spectrum.get_peaks()\n",
    "\n",
    "# The mass-to-charge of our observed spectrum ranges from 200 - 800 m/z\n",
    "print(min(obs_mz)) # 212.012451171875\n",
    "print(max(obs_mz)) # 795.2837524414062\n",
    "\n",
    "# We filter the peaks of the theoretical spectrum to fit the range (to reduce image complexity)\n",
    "theo_mz, theo_int = [], []\n",
    "for mz, intensity in zip(*theo_spectrum.get_peaks()):\n",
    "    if mz >= 200.0 and mz <= 800.0:\n",
    "        theo_mz.append(mz)\n",
    "        theo_int.append(intensity)\n",
    "\n",
    "title = 'Observed vs theoretical spectrum'\n",
    "mirror_plot(obs_mz, obs_int, theo_mz, theo_int, title)"
   ]
  },
  {
   "cell_type": "code",
   "execution_count": 6,
   "id": "16a411ca",
   "metadata": {
    "ExecuteTime": {
     "end_time": "2021-12-17T16:39:50.728972Z",
     "start_time": "2021-12-17T16:39:50.573415Z"
    }
   },
   "outputs": [
    {
     "name": "stdout",
     "output_type": "stream",
     "text": [
      "Number of matched peaks: 16\n",
      "ion\ttheo. m/z\tobserved m/z\n",
      "y2+\t1\t234.14483407287105\t234.12303161621094\n",
      "y5++\t2\t268.15794163667096\t268.1054382324219\n",
      "b2+\t1\t277.15467010477096\t277.24560546875\n",
      "y3+\t1\t321.17686323237103\t321.2969970703125\n",
      "y4+\t1\t434.26092758327104\t434.2879638671875\n",
      "b3+\t1\t437.18531908997096\t437.291259765625\n",
      "y5+\t1\t535.308606806571\t535.18896484375\n",
      "b4+\t1\t552.212263249471\t552.3375244140625\n",
      "b9++\t2\t562.239866948271\t562.4213256835938\n",
      "y10++\t2\t584.2509635120709\t584.4120483398438\n",
      "y11++\t2\t640.7929956875209\t640.9539184570312\n",
      "b11++\t2\t649.2718961077711\t649.0973510742188\n",
      "y6+\t1\t650.335550966071\t650.3652954101562\n",
      "b5+\t1\t666.255191440871\t666.1763305664062\n",
      "y7+\t1\t778.394129221271\t778.3391723632812\n",
      "b6+\t1\t794.3137696960711\t794.192138671875\n"
     ]
    }
   ],
   "source": [
    "alignment = []\n",
    "spa = SpectrumAlignment()\n",
    "p = spa.getParameters()\n",
    "# use 0.5 Da tolerance (Note: for high-resolution data we could also use ppm by setting the is_relative_tolerance value to true)\n",
    "p.setValue(\"tolerance\", 0.5)\n",
    "p.setValue(\"is_relative_tolerance\", \"false\")\n",
    "spa.setParameters(p)\n",
    "# align both spectra\n",
    "spa.getSpectrumAlignment(alignment, theo_spectrum, observed_spectrum)\n",
    "# Print matching ions and mz from theoretical spectrum\n",
    "print(\"Number of matched peaks: \" + str(len(alignment)))\n",
    "print(\"ion\\ttheo. m/z\\tobserved m/z\")\n",
    "\n",
    "for theo_idx, obs_idx in alignment:\n",
    "    ion_name = theo_spectrum.getStringDataArrays()[0][theo_idx].decode()\n",
    "    ion_charge = theo_spectrum.getIntegerDataArrays()[0][theo_idx]\n",
    "    print(ion_name + \"\\t\" + str(ion_charge) + \"\\t\"\n",
    "      + str(theo_spectrum[theo_idx].getMZ())\n",
    "      + \"\\t\" + str(observed_spectrum[obs_idx].getMZ()))"
   ]
  },
  {
   "cell_type": "code",
   "execution_count": 7,
   "id": "d0ae9061",
   "metadata": {
    "ExecuteTime": {
     "end_time": "2021-12-17T16:40:29.155190Z",
     "start_time": "2021-12-17T16:40:28.665042Z"
    }
   },
   "outputs": [
    {
     "data": {
      "image/png": "[encoded data removed]",
      "text/plain": [
       "<Figure size 864x576 with 1 Axes>"
      ]
     },
     "metadata": {
      "needs_background": "light"
     },
     "output_type": "display_data"
    }
   ],
   "source": [
    "theo_mz, theo_int, obs_mz, obs_int = [], [], [], []\n",
    "for theo_idx, obs_idx in alignment:\n",
    "    theo_mz.append(theo_spectrum[theo_idx].getMZ())\n",
    "    theo_int.append(theo_spectrum[theo_idx].getIntensity())\n",
    "    obs_mz.append(observed_spectrum[obs_idx].getMZ())\n",
    "    obs_int.append(observed_spectrum[obs_idx].getIntensity())\n",
    "\n",
    "title = 'Observed vs theoretical spectrum (aligned)'\n",
    "mirror_plot(obs_mz, obs_int, theo_mz, theo_int, title)"
   ]
  },
  {
   "cell_type": "code",
   "execution_count": null,
   "id": "1304f298",
   "metadata": {},
   "outputs": [],
   "source": []
  }
 ],
 "metadata": {
  "kernelspec": {
   "display_name": "Python 3",
   "language": "python",
   "name": "python3"
  },
  "language_info": {
   "codemirror_mode": {
    "name": "ipython",
    "version": 3
   },
   "file_extension": ".py",
   "mimetype": "text/x-python",
   "name": "python",
   "nbconvert_exporter": "python",
   "pygments_lexer": "ipython3",
   "version": "3.8.8"
  }
 },
 "nbformat": 4,
 "nbformat_minor": 5
}
