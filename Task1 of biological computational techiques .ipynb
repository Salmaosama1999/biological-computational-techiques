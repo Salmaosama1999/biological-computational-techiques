{
 "cells": [
  {
   "cell_type": "markdown",
   "id": "29a315da",
   "metadata": {},
   "source": [
    "## section 1:"
   ]
  },
  {
   "cell_type": "code",
   "execution_count": 1,
   "id": "d7722382",
   "metadata": {
    "ExecuteTime": {
     "end_time": "2021-11-08T02:00:14.964723Z",
     "start_time": "2021-11-08T02:00:14.320632Z"
    }
   },
   "outputs": [],
   "source": [
    "import pyopenms"
   ]
  },
  {
   "cell_type": "markdown",
   "id": "6973e0f3",
   "metadata": {},
   "source": [
    "## 1) constant"
   ]
  },
  {
   "cell_type": "code",
   "execution_count": 2,
   "id": "699b050c",
   "metadata": {
    "ExecuteTime": {
     "end_time": "2021-11-08T02:01:10.440563Z",
     "start_time": "2021-11-08T02:01:10.399322Z"
    }
   },
   "outputs": [
    {
     "name": "stdout",
     "output_type": "stream",
     "text": [
      "Help on module pyopenms.Constants in pyopenms:\n",
      "\n",
      "NAME\n",
      "    pyopenms.Constants\n",
      "\n",
      "DESCRIPTION\n",
      "    # @brief Mathematical and physical constants namespace.\n",
      "    # \n",
      "    # This namespace contains definitions for some basic mathematical and physical constants.\n",
      "    # All constants are double precision.\n",
      "\n",
      "DATA\n",
      "    AVOGADRO = 6.0221367e+23\n",
      "    BOHR_RADIUS = 5.29177249e-11\n",
      "    BOLTZMANN = 1.380657e-23\n",
      "    C13C12_MASSDIFF_U = 1.0033548378\n",
      "    CAL_PER_JOULE = 0.2390057361376673\n",
      "    DEG_PER_RAD = 57.29577951308232\n",
      "    E = 2.718281828459045\n",
      "    ELECTRON_MASS = 9.1093897e-31\n",
      "    ELECTRON_MASS_U = 0.0005485799042984105\n",
      "    ELEMENTARY_CHARGE = 1.60217738e-19\n",
      "    EPSILON = 1e-06\n",
      "    F = 96485.31200007845\n",
      "    FARADAY = 96485.31200007845\n",
      "    FINE_STRUCTURE_CONSTANT = 0.00729735\n",
      "    FRAGMENT_ANNOTATION_USERPARAM = 'fragment_annotation'\n",
      "    GAS_CONSTANT = 8.314505189811898\n",
      "    GRAVITATIONAL_CONSTANT = 6.67259e-11\n",
      "    JOULE_PER_CAL = 4.184\n",
      "    MM_PER_INCH = 25.4\n",
      "    MOL = 6.0221367e+23\n",
      "    M_PER_FOOT = 3.048\n",
      "    NA = 6.0221367e+23\n",
      "    NEUTRON_MASS = 1.6749286e-27\n",
      "    NEUTRON_MASS_U = 1.00866491566\n",
      "    PI = 3.141592653589793\n",
      "    PLANCK = 6.6260754e-34\n",
      "    PRECURSOR_ERROR_PPM_USERPARAM = 'precursor_mz_error_ppm'\n",
      "    PROTON_MASS = 1.672623e-27\n",
      "    PROTON_MASS_U = 1.007276466771\n",
      "    R = 8.314505189811898\n",
      "    RAD_PER_DEG = 0.017453292519943295\n",
      "    SPEED_OF_LIGHT = 299792458.0\n",
      "    VACUUM_PERMEABILITY = 1.2566370614359173e-06\n",
      "    VACUUM_PERMITTIVITY = 8.85419e-12\n",
      "    a0 = 5.29177249e-11\n",
      "    c = 299792458.0\n",
      "    e0 = 1.60217738e-19\n",
      "    h = 6.6260754e-34\n",
      "    k = 1.380657e-23\n",
      "\n",
      "FILE\n",
      "    d:\\ai\\lib\\site-packages\\pyopenms\\constants.py\n",
      "\n",
      "\n"
     ]
    }
   ],
   "source": [
    "help(pyopenms.Constants)"
   ]
  },
  {
   "cell_type": "markdown",
   "id": "dbd8a613",
   "metadata": {},
   "source": [
    "## 2)Elements"
   ]
  },
  {
   "cell_type": "code",
   "execution_count": 3,
   "id": "88da53f9",
   "metadata": {
    "ExecuteTime": {
     "end_time": "2021-11-08T02:02:11.860230Z",
     "start_time": "2021-11-08T02:02:11.844273Z"
    }
   },
   "outputs": [],
   "source": [
    "from pyopenms import*"
   ]
  },
  {
   "cell_type": "code",
   "execution_count": 4,
   "id": "768b391e",
   "metadata": {
    "ExecuteTime": {
     "end_time": "2021-11-08T02:02:47.498440Z",
     "start_time": "2021-11-08T02:02:47.490464Z"
    }
   },
   "outputs": [],
   "source": [
    "newEle=ElementDB()"
   ]
  },
  {
   "cell_type": "code",
   "execution_count": 7,
   "id": "3d8c55d6",
   "metadata": {
    "ExecuteTime": {
     "end_time": "2021-11-08T02:03:54.750795Z",
     "start_time": "2021-11-08T02:03:54.740780Z"
    }
   },
   "outputs": [
    {
     "data": {
      "text/plain": [
       "True"
      ]
     },
     "execution_count": 7,
     "metadata": {},
     "output_type": "execute_result"
    }
   ],
   "source": [
    "newEle.hasElement(\"Ag\")"
   ]
  },
  {
   "cell_type": "code",
   "execution_count": 8,
   "id": "7471b56a",
   "metadata": {
    "ExecuteTime": {
     "end_time": "2021-11-08T02:05:18.520333Z",
     "start_time": "2021-11-08T02:05:18.508365Z"
    }
   },
   "outputs": [],
   "source": [
    "sliver=newEle.getElement(\"Ag\")\n"
   ]
  },
  {
   "cell_type": "code",
   "execution_count": 9,
   "id": "86a700fc",
   "metadata": {
    "ExecuteTime": {
     "end_time": "2021-11-08T02:06:20.879397Z",
     "start_time": "2021-11-08T02:06:20.866501Z"
    }
   },
   "outputs": [
    {
     "name": "stdout",
     "output_type": "stream",
     "text": [
      "Silver\n",
      "Ag\n",
      "106.905093\n",
      "107.86815069743\n"
     ]
    }
   ],
   "source": [
    "print(sliver.getName())\n",
    "print(sliver.getSymbol())\n",
    "print(sliver.getMonoWeight())\n",
    "print(sliver.getAverageWeight())"
   ]
  },
  {
   "cell_type": "code",
   "execution_count": 10,
   "id": "0399d693",
   "metadata": {
    "ExecuteTime": {
     "end_time": "2021-11-08T02:09:51.093098Z",
     "start_time": "2021-11-08T02:09:51.084132Z"
    }
   },
   "outputs": [
    {
     "name": "stdout",
     "output_type": "stream",
     "text": [
      "One mole of oxygen weighs 215.73630139486 grams\n",
      "One mole of 16O2 weighs 213.810186 grams\n"
     ]
    }
   ],
   "source": [
    "print (\"One mole of oxygen weighs\", 2*sliver.getAverageWeight(), \"grams\")\n",
    "print (\"One mole of 16O2 weighs\", 2*sliver.getMonoWeight(), \"grams\")"
   ]
  },
  {
   "cell_type": "markdown",
   "id": "c067c500",
   "metadata": {},
   "source": [
    "## 3)isotops"
   ]
  },
  {
   "cell_type": "code",
   "execution_count": 11,
   "id": "ccbec737",
   "metadata": {
    "ExecuteTime": {
     "end_time": "2021-11-08T02:13:39.619197Z",
     "start_time": "2021-11-08T02:13:39.601243Z"
    }
   },
   "outputs": [],
   "source": [
    "sliver_Iso=sliver.getIsotopeDistribution()"
   ]
  },
  {
   "cell_type": "code",
   "execution_count": 24,
   "id": "0f7c0f1d",
   "metadata": {
    "ExecuteTime": {
     "end_time": "2021-11-08T02:22:05.370700Z",
     "start_time": "2021-11-08T02:22:05.359735Z"
    }
   },
   "outputs": [
    {
     "name": "stdout",
     "output_type": "stream",
     "text": [
      "sliver isotope 106.905093 has abundance 51.83899998664856 %\n",
      "sliver isotope 108.904756 has abundance 48.16100001335144 %\n"
     ]
    }
   ],
   "source": [
    "sliver_Iso=sliver.getIsotopeDistribution()\n",
    "for iso in sliver_Iso.getContainer():\n",
    "    print (\"sliver isotope\", iso.getMZ(), \"has abundance\", iso.getIntensity()*100, \"%\")"
   ]
  },
  {
   "cell_type": "markdown",
   "id": "28bbab3f",
   "metadata": {},
   "source": [
    "## 4)Molecular formula:"
   ]
  },
  {
   "cell_type": "code",
   "execution_count": 28,
   "id": "c29490ae",
   "metadata": {
    "ExecuteTime": {
     "end_time": "2021-11-08T02:26:10.473018Z",
     "start_time": "2021-11-08T02:26:10.458060Z"
    }
   },
   "outputs": [
    {
     "name": "stdout",
     "output_type": "stream",
     "text": [
      "Ethanol chemical formula: C1H4O1\n",
      "Ethanol composition: {b'C': 1, b'H': 4, b'O': 1}\n",
      "Ethanol has 4 hydrogen atoms\n"
     ]
    }
   ],
   "source": [
    "water = EmpiricalFormula(\"H2O\")\n",
    "ethanol = EmpiricalFormula(\"CH2\") + water\n",
    "print(\"Ethanol chemical formula:\", ethanol.toString())\n",
    "print(\"Ethanol composition:\", ethanol.getElementalComposition())\n",
    "print(\"Ethanol has\", ethanol.getElementalComposition()[b\"H\"], \"hydrogen atoms\")"
   ]
  },
  {
   "cell_type": "markdown",
   "id": "b0c0d09f",
   "metadata": {},
   "source": [
    "## 6) Amino acid:"
   ]
  },
  {
   "cell_type": "code",
   "execution_count": 33,
   "id": "1743ee86",
   "metadata": {
    "ExecuteTime": {
     "end_time": "2021-11-08T05:36:36.673011Z",
     "start_time": "2021-11-08T05:36:36.662087Z"
    }
   },
   "outputs": [],
   "source": [
    "val=ResidueDB().getResidue(\"Valine\")"
   ]
  },
  {
   "cell_type": "code",
   "execution_count": 38,
   "id": "e2f7e2d7",
   "metadata": {
    "ExecuteTime": {
     "end_time": "2021-11-08T05:42:26.143614Z",
     "start_time": "2021-11-08T05:42:26.131649Z"
    }
   },
   "outputs": [
    {
     "name": "stdout",
     "output_type": "stream",
     "text": [
      "Valine\n",
      "Val\n",
      "V\n",
      "117.14658151860637\n",
      "117.0789793509\n",
      "2.39\n",
      "C5H11N1O2\n"
     ]
    }
   ],
   "source": [
    "print(val.getName())\n",
    "print(val.getThreeLetterCode())\n",
    "print(val.getOneLetterCode())\n",
    "print(val.getAverageWeight())\n",
    "print(val.getMonoWeight())\n",
    "print(val.getPka())\n",
    "print(val.getFormula())\n"
   ]
  },
  {
   "cell_type": "markdown",
   "id": "f8cc965b",
   "metadata": {},
   "source": [
    "## 7)Amino Acid Modifications"
   ]
  },
  {
   "cell_type": "code",
   "execution_count": 40,
   "id": "b5a420bc",
   "metadata": {
    "ExecuteTime": {
     "end_time": "2021-11-08T05:45:36.571554Z",
     "start_time": "2021-11-08T05:45:36.432252Z"
    }
   },
   "outputs": [],
   "source": [
    "ox = ModificationsDB().getModification(\"Oxidation\")\n"
   ]
  },
  {
   "cell_type": "code",
   "execution_count": 42,
   "id": "c289ab58",
   "metadata": {
    "ExecuteTime": {
     "end_time": "2021-11-08T05:50:09.387881Z",
     "start_time": "2021-11-08T05:50:09.379904Z"
    }
   },
   "outputs": [
    {
     "name": "stdout",
     "output_type": "stream",
     "text": [
      "UniMod:35\n",
      "35\n",
      "15.994915\n",
      "Oxidation (H)\n",
      "Oxidation\n",
      "\n",
      "Oxidation or Hydroxylation\n",
      "O1\n",
      "\n"
     ]
    }
   ],
   "source": [
    "print(ox.getUniModAccession())\n",
    "print(ox.getUniModRecordId())\n",
    "print(ox.getDiffMonoMass())\n",
    "print(ox.getFullId())\n",
    "print(ox.getId())\n",
    "print(ox.getName())\n",
    "print(ox.getFullName())\n",
    "print(ox.getDiffFormula())\n",
    "print(ox.getFormula())"
   ]
  },
  {
   "cell_type": "markdown",
   "id": "46e24ef6",
   "metadata": {},
   "source": [
    "## 8)Ribonucleotides"
   ]
  },
  {
   "cell_type": "code",
   "execution_count": 49,
   "id": "3ffb4a68",
   "metadata": {
    "ExecuteTime": {
     "end_time": "2021-11-08T05:54:57.364226Z",
     "start_time": "2021-11-08T05:54:57.348230Z"
    }
   },
   "outputs": [],
   "source": [
    "cyt= RibonucleotideDB().getRibonucleotide(b\"C\")"
   ]
  },
  {
   "cell_type": "code",
   "execution_count": 50,
   "id": "701d88bf",
   "metadata": {
    "ExecuteTime": {
     "end_time": "2021-11-08T05:54:59.717149Z",
     "start_time": "2021-11-08T05:54:59.706141Z"
    }
   },
   "outputs": [
    {
     "name": "stdout",
     "output_type": "stream",
     "text": [
      "cytidine\n",
      "C\n",
      "243.2197\n",
      "243.0855\n",
      "C9H13N3O5\n",
      "False\n",
      "1-methyladenosine\n",
      "True\n"
     ]
    }
   ],
   "source": [
    "print(cyt.getName())\n",
    "print(cyt.getCode())\n",
    "print(cyt.getAvgMass())\n",
    "print(cyt.getMonoMass())\n",
    "print(cyt.getFormula())\n",
    "print(cyt.isModified())\n",
    "methyladenosine = RibonucleotideDB().getRibonucleotide(b\"m1A\")\n",
    "print(methyladenosine.getName())\n",
    "print(methyladenosine.isModified())"
   ]
  }
 ],
 "metadata": {
  "kernelspec": {
   "display_name": "Python 3",
   "language": "python",
   "name": "python3"
  },
  "language_info": {
   "codemirror_mode": {
    "name": "ipython",
    "version": 3
   },
   "file_extension": ".py",
   "mimetype": "text/x-python",
   "name": "python",
   "nbconvert_exporter": "python",
   "pygments_lexer": "ipython3",
   "version": "3.8.8"
  }
 },
 "nbformat": 4,
 "nbformat_minor": 5
}
