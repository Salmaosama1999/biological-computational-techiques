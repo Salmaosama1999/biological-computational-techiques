{
 "cells": [
  {
   "cell_type": "markdown",
   "id": "ae544c47",
   "metadata": {},
   "source": [
    "# Section 4"
   ]
  },
  {
   "cell_type": "markdown",
   "id": "f55c625f",
   "metadata": {},
   "source": [
    "# Y-ion spectrum"
   ]
  },
  {
   "cell_type": "code",
   "execution_count": 5,
   "id": "e7f66bbe",
   "metadata": {
    "ExecuteTime": {
     "end_time": "2021-12-17T14:45:54.072326Z",
     "start_time": "2021-12-17T14:45:54.052232Z"
    }
   },
   "outputs": [
    {
     "name": "stdout",
     "output_type": "stream",
     "text": [
      "Spectrum 1 of DFPIANGER has 8 peaks.\n",
      "y1+ is generated at m/z 175.118952913371\n",
      "y2+ is generated at m/z 304.161547136671\n",
      "y3+ is generated at m/z 361.18301123237103\n",
      "y4+ is generated at m/z 475.225939423771\n",
      "y5+ is generated at m/z 546.263053583271\n",
      "y6+ is generated at m/z 659.347117934171\n",
      "y7+ is generated at m/z 756.399882157471\n",
      "y8+ is generated at m/z 903.468296444571\n"
     ]
    }
   ],
   "source": [
    "from pyopenms import *\n",
    "\n",
    "therospec = TheoreticalSpectrumGenerator()\n",
    "spec = MSSpectrum()\n",
    "peptide = AASequence.fromString(\"DFPIANGER\")\n",
    "p = Param()\n",
    "p.setValue(\"add_b_ions\", \"false\")\n",
    "p.setValue(\"add_metainfo\", \"true\")\n",
    "therospec.setParameters(p)\n",
    "therospec.getSpectrum(spec, peptide, 1, 1)\n",
    "\n",
    "print(\"Spectrum 1 of\", peptide, \"has\", spec.size(), \"peaks.\")\n",
    "\n",
    "for ion, peak in zip(spec.getStringDataArrays()[0], spec):\n",
    "    print(ion.decode(), \"is generated at m/z\", peak.getMZ())"
   ]
  },
  {
   "cell_type": "code",
   "execution_count": 7,
   "id": "1dd7c2db",
   "metadata": {
    "ExecuteTime": {
     "end_time": "2021-12-17T14:47:12.136438Z",
     "start_time": "2021-12-17T14:47:11.254670Z"
    }
   },
   "outputs": [
    {
     "data": {
      "text/plain": [
       "Text(0, 0.5, 'intensity')"
      ]
     },
     "execution_count": 7,
     "metadata": {},
     "output_type": "execute_result"
    },
    {
     "data": {
      "image/png": "[encoded data removed]",
      "text/plain": [
       "<Figure size 432x288 with 1 Axes>"
      ]
     },
     "metadata": {
      "needs_background": "light"
     },
     "output_type": "display_data"
    }
   ],
   "source": [
    "import matplotlib.pyplot as plt\n",
    "plt.bar(spec.get_peaks()[0], spec.get_peaks()[1], snap=False)\n",
    "plt.xlabel(\"m/z\")\n",
    "plt.ylabel(\"intensity\")"
   ]
  },
  {
   "cell_type": "code",
   "execution_count": 9,
   "id": "53b4c05d",
   "metadata": {
    "ExecuteTime": {
     "end_time": "2021-12-17T14:49:31.493986Z",
     "start_time": "2021-12-17T14:49:31.026381Z"
    }
   },
   "outputs": [
    {
     "data": {
      "text/plain": [
       "Text(0, 0.5, 'intensity')"
      ]
     },
     "execution_count": 9,
     "metadata": {},
     "output_type": "execute_result"
    },
    {
     "data": {
      "image/png": "[encoded data removed]",
      "text/plain": [
       "<Figure size 432x288 with 1 Axes>"
      ]
     },
     "metadata": {
      "needs_background": "light"
     },
     "output_type": "display_data"
    }
   ],
   "source": [
    "mz,i = spec.get_peaks()\n",
    "annot = spec.getStringDataArrays()[0]\n",
    "bars = plt.bar(mz, i, snap=False)\n",
    "idx = 0\n",
    "for rect in bars:\n",
    "    height = rect.get_height()\n",
    "    plt.text(rect.get_x() + rect.get_width() / 2.0, height, annot[idx].decode(), ha='center', va='bottom')\n",
    "    idx += 1\n",
    "plt.ylim(top=1.2)\n",
    "plt.xlabel(\"m/z\")\n",
    "plt.ylabel(\"intensity\")"
   ]
  },
  {
   "cell_type": "code",
   "execution_count": null,
   "id": "9090a7f1",
   "metadata": {},
   "outputs": [],
   "source": []
  }
 ],
 "metadata": {
  "kernelspec": {
   "display_name": "Python 3",
   "language": "python",
   "name": "python3"
  },
  "language_info": {
   "codemirror_mode": {
    "name": "ipython",
    "version": 3
   },
   "file_extension": ".py",
   "mimetype": "text/x-python",
   "name": "python",
   "nbconvert_exporter": "python",
   "pygments_lexer": "ipython3",
   "version": "3.8.8"
  }
 },
 "nbformat": 4,
 "nbformat_minor": 5
}
