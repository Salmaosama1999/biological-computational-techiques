{
 "cells": [
  {
   "cell_type": "markdown",
   "id": "29a315da",
   "metadata": {},
   "source": [
    "## section 1:"
   ]
  },
  {
   "cell_type": "code",
   "execution_count": 1,
   "id": "d7722382",
   "metadata": {
    "ExecuteTime": {
     "end_time": "2021-11-08T02:00:14.964723Z",
     "start_time": "2021-11-08T02:00:14.320632Z"
    }
   },
   "outputs": [],
   "source": [
    "import pyopenms"
   ]
  },
  {
   "cell_type": "markdown",
   "id": "6973e0f3",
   "metadata": {},
   "source": [
    "## 1) constant"
   ]
  },
  {
   "cell_type": "code",
   "execution_count": 2,
   "id": "699b050c",
   "metadata": {
    "ExecuteTime": {
     "end_time": "2021-11-08T02:01:10.440563Z",
     "start_time": "2021-11-08T02:01:10.399322Z"
    }
   },
   "outputs": [
    {
     "name": "stdout",
     "output_type": "stream",
     "text": [
      "Help on module pyopenms.Constants in pyopenms:\n",
      "\n",
      "NAME\n",
      "    pyopenms.Constants\n",
      "\n",
      "DESCRIPTION\n",
      "    # @brief Mathematical and physical constants namespace.\n",
      "    # \n",
      "    # This namespace contains definitions for some basic mathematical and physical constants.\n",
      "    # All constants are double precision.\n",
      "\n",
      "DATA\n",
      "    AVOGADRO = 6.0221367e+23\n",
      "    BOHR_RADIUS = 5.29177249e-11\n",
      "    BOLTZMANN = 1.380657e-23\n",
      "    C13C12_MASSDIFF_U = 1.0033548378\n",
      "    CAL_PER_JOULE = 0.2390057361376673\n",
      "    DEG_PER_RAD = 57.29577951308232\n",
      "    E = 2.718281828459045\n",
      "    ELECTRON_MASS = 9.1093897e-31\n",
      "    ELECTRON_MASS_U = 0.0005485799042984105\n",
      "    ELEMENTARY_CHARGE = 1.60217738e-19\n",
      "    EPSILON = 1e-06\n",
      "    F = 96485.31200007845\n",
      "    FARADAY = 96485.31200007845\n",
      "    FINE_STRUCTURE_CONSTANT = 0.00729735\n",
      "    FRAGMENT_ANNOTATION_USERPARAM = 'fragment_annotation'\n",
      "    GAS_CONSTANT = 8.314505189811898\n",
      "    GRAVITATIONAL_CONSTANT = 6.67259e-11\n",
      "    JOULE_PER_CAL = 4.184\n",
      "    MM_PER_INCH = 25.4\n",
      "    MOL = 6.0221367e+23\n",
      "    M_PER_FOOT = 3.048\n",
      "    NA = 6.0221367e+23\n",
      "    NEUTRON_MASS = 1.6749286e-27\n",
      "    NEUTRON_MASS_U = 1.00866491566\n",
      "    PI = 3.141592653589793\n",
      "    PLANCK = 6.6260754e-34\n",
      "    PRECURSOR_ERROR_PPM_USERPARAM = 'precursor_mz_error_ppm'\n",
      "    PROTON_MASS = 1.672623e-27\n",
      "    PROTON_MASS_U = 1.007276466771\n",
      "    R = 8.314505189811898\n",
      "    RAD_PER_DEG = 0.017453292519943295\n",
      "    SPEED_OF_LIGHT = 299792458.0\n",
      "    VACUUM_PERMEABILITY = 1.2566370614359173e-06\n",
      "    VACUUM_PERMITTIVITY = 8.85419e-12\n",
      "    a0 = 5.29177249e-11\n",
      "    c = 299792458.0\n",
      "    e0 = 1.60217738e-19\n",
      "    h = 6.6260754e-34\n",
      "    k = 1.380657e-23\n",
      "\n",
      "FILE\n",
      "    d:\\ai\\lib\\site-packages\\pyopenms\\constants.py\n",
      "\n",
      "\n"
     ]
    }
   ],
   "source": [
    "help(pyopenms.Constants)"
   ]
  },
  {
   "cell_type": "markdown",
   "id": "dbd8a613",
   "metadata": {},
   "source": [
    "## 2)Elements"
   ]
  },
  {
   "cell_type": "code",
   "execution_count": 3,
   "id": "88da53f9",
   "metadata": {
    "ExecuteTime": {
     "end_time": "2021-11-08T02:02:11.860230Z",
     "start_time": "2021-11-08T02:02:11.844273Z"
    }
   },
   "outputs": [],
   "source": [
    "from pyopenms import*"
   ]
  },
  {
   "cell_type": "code",
   "execution_count": 4,
   "id": "768b391e",
   "metadata": {
    "ExecuteTime": {
     "end_time": "2021-11-08T02:02:47.498440Z",
     "start_time": "2021-11-08T02:02:47.490464Z"
    }
   },
   "outputs": [],
   "source": [
    "newEle=ElementDB()"
   ]
  },
  {
   "cell_type": "code",
   "execution_count": 7,
   "id": "3d8c55d6",
   "metadata": {
    "ExecuteTime": {
     "end_time": "2021-11-08T02:03:54.750795Z",
     "start_time": "2021-11-08T02:03:54.740780Z"
    }
   },
   "outputs": [
    {
     "data": {
      "text/plain": [
       "True"
      ]
     },
     "execution_count": 7,
     "metadata": {},
     "output_type": "execute_result"
    }
   ],
   "source": [
    "newEle.hasElement(\"Ag\")"
   ]
  },
  {
   "cell_type": "code",
   "execution_count": 8,
   "id": "7471b56a",
   "metadata": {
    "ExecuteTime": {
     "end_time": "2021-11-08T02:05:18.520333Z",
     "start_time": "2021-11-08T02:05:18.508365Z"
    }
   },
   "outputs": [],
   "source": [
    "sliver=newEle.getElement(\"Ag\")\n"
   ]
  },
  {
   "cell_type": "code",
   "execution_count": 9,
   "id": "86a700fc",
   "metadata": {
    "ExecuteTime": {
     "end_time": "2021-11-08T02:06:20.879397Z",
     "start_time": "2021-11-08T02:06:20.866501Z"
    }
   },
   "outputs": [
    {
     "name": "stdout",
     "output_type": "stream",
     "text": [
      "Silver\n",
      "Ag\n",
      "106.905093\n",
      "107.86815069743\n"
     ]
    }
   ],
   "source": [
    "print(sliver.getName())\n",
    "print(sliver.getSymbol())\n",
    "print(sliver.getMonoWeight())\n",
    "print(sliver.getAverageWeight())"
   ]
  },
  {
   "cell_type": "code",
   "execution_count": 10,
   "id": "0399d693",
   "metadata": {
    "ExecuteTime": {
     "end_time": "2021-11-08T02:09:51.093098Z",
     "start_time": "2021-11-08T02:09:51.084132Z"
    }
   },
   "outputs": [
    {
     "name": "stdout",
     "output_type": "stream",
     "text": [
      "One mole of oxygen weighs 215.73630139486 grams\n",
      "One mole of 16O2 weighs 213.810186 grams\n"
     ]
    }
   ],
   "source": [
    "print (\"One mole of oxygen weighs\", 2*sliver.getAverageWeight(), \"grams\")\n",
    "print (\"One mole of 16O2 weighs\", 2*sliver.getMonoWeight(), \"grams\")"
   ]
  },
  {
   "cell_type": "markdown",
   "id": "c067c500",
   "metadata": {},
   "source": [
    "## 3)isotops"
   ]
  },
  {
   "cell_type": "code",
   "execution_count": 11,
   "id": "ccbec737",
   "metadata": {
    "ExecuteTime": {
     "end_time": "2021-11-08T02:13:39.619197Z",
     "start_time": "2021-11-08T02:13:39.601243Z"
    }
   },
   "outputs": [],
   "source": [
    "sliver_Iso=sliver.getIsotopeDistribution()"
   ]
  },
  {
   "cell_type": "code",
   "execution_count": 24,
   "id": "0f7c0f1d",
   "metadata": {
    "ExecuteTime": {
     "end_time": "2021-11-08T02:22:05.370700Z",
     "start_time": "2021-11-08T02:22:05.359735Z"
    }
   },
   "outputs": [
    {
     "name": "stdout",
     "output_type": "stream",
     "text": [
      "sliver isotope 106.905093 has abundance 51.83899998664856 %\n",
      "sliver isotope 108.904756 has abundance 48.16100001335144 %\n"
     ]
    }
   ],
   "source": [
    "sliver_Iso=sliver.getIsotopeDistribution()\n",
    "for iso in sliver_Iso.getContainer():\n",
    "    print (\"sliver isotope\", iso.getMZ(), \"has abundance\", iso.getIntensity()*100, \"%\")"
   ]
  },
  {
   "cell_type": "markdown",
   "id": "28bbab3f",
   "metadata": {},
   "source": [
    "## 4)Molecular formula:"
   ]
  },
  {
   "cell_type": "code",
   "execution_count": 28,
   "id": "c29490ae",
   "metadata": {
    "ExecuteTime": {
     "end_time": "2021-11-08T02:26:10.473018Z",
     "start_time": "2021-11-08T02:26:10.458060Z"
    }
   },
   "outputs": [
    {
     "name": "stdout",
     "output_type": "stream",
     "text": [
      "Ethanol chemical formula: C1H4O1\n",
      "Ethanol composition: {b'C': 1, b'H': 4, b'O': 1}\n",
      "Ethanol has 4 hydrogen atoms\n"
     ]
    }
   ],
   "source": [
    "water = EmpiricalFormula(\"H2O\")\n",
    "ethanol = EmpiricalFormula(\"CH2\") + water\n",
    "print(\"Ethanol chemical formula:\", ethanol.toString())\n",
    "print(\"Ethanol composition:\", ethanol.getElementalComposition())\n",
    "print(\"Ethanol has\", ethanol.getElementalComposition()[b\"H\"], \"hydrogen atoms\")"
   ]
  },
  {
   "cell_type": "markdown",
   "id": "593e4226",
   "metadata": {},
   "source": [
    "## 5) Isotopic Distributions"
   ]
  },
  {
   "cell_type": "code",
   "execution_count": null,
   "id": "737f47e6",
   "metadata": {},
   "outputs": [],
   "source": []
  },
  {
   "cell_type": "markdown",
   "id": "b0c0d09f",
   "metadata": {},
   "source": [
    "## 6) Amino acid:"
   ]
  },
  {
   "cell_type": "code",
   "execution_count": 33,
   "id": "1743ee86",
   "metadata": {
    "ExecuteTime": {
     "end_time": "2021-11-08T05:36:36.673011Z",
     "start_time": "2021-11-08T05:36:36.662087Z"
    }
   },
   "outputs": [],
   "source": [
    "val=ResidueDB().getResidue(\"Valine\")"
   ]
  },
  {
   "cell_type": "code",
   "execution_count": 38,
   "id": "e2f7e2d7",
   "metadata": {
    "ExecuteTime": {
     "end_time": "2021-11-08T05:42:26.143614Z",
     "start_time": "2021-11-08T05:42:26.131649Z"
    }
   },
   "outputs": [
    {
     "name": "stdout",
     "output_type": "stream",
     "text": [
      "Valine\n",
      "Val\n",
      "V\n",
      "117.14658151860637\n",
      "117.0789793509\n",
      "2.39\n",
      "C5H11N1O2\n"
     ]
    }
   ],
   "source": [
    "print(val.getName())\n",
    "print(val.getThreeLetterCode())\n",
    "print(val.getOneLetterCode())\n",
    "print(val.getAverageWeight())\n",
    "print(val.getMonoWeight())\n",
    "print(val.getPka())\n",
    "print(val.getFormula())\n"
   ]
  },
  {
   "cell_type": "markdown",
   "id": "f8cc965b",
   "metadata": {},
   "source": [
    "## 7)Amino Acid Modifications"
   ]
  },
  {
   "cell_type": "code",
   "execution_count": 40,
   "id": "b5a420bc",
   "metadata": {
    "ExecuteTime": {
     "end_time": "2021-11-08T05:45:36.571554Z",
     "start_time": "2021-11-08T05:45:36.432252Z"
    }
   },
   "outputs": [],
   "source": [
    "ox = ModificationsDB().getModification(\"Oxidation\")\n"
   ]
  },
  {
   "cell_type": "code",
   "execution_count": 42,
   "id": "c289ab58",
   "metadata": {
    "ExecuteTime": {
     "end_time": "2021-11-08T05:50:09.387881Z",
     "start_time": "2021-11-08T05:50:09.379904Z"
    }
   },
   "outputs": [
    {
     "name": "stdout",
     "output_type": "stream",
     "text": [
      "UniMod:35\n",
      "35\n",
      "15.994915\n",
      "Oxidation (H)\n",
      "Oxidation\n",
      "\n",
      "Oxidation or Hydroxylation\n",
      "O1\n",
      "\n"
     ]
    }
   ],
   "source": [
    "print(ox.getUniModAccession())\n",
    "print(ox.getUniModRecordId())\n",
    "print(ox.getDiffMonoMass())\n",
    "print(ox.getFullId())\n",
    "print(ox.getId())\n",
    "print(ox.getName())\n",
    "print(ox.getFullName())\n",
    "print(ox.getDiffFormula())\n",
    "print(ox.getFormula())"
   ]
  },
  {
   "cell_type": "markdown",
   "id": "46e24ef6",
   "metadata": {},
   "source": [
    "## 8)Ribonucleotides"
   ]
  },
  {
   "cell_type": "code",
   "execution_count": 49,
   "id": "3ffb4a68",
   "metadata": {
    "ExecuteTime": {
     "end_time": "2021-11-08T05:54:57.364226Z",
     "start_time": "2021-11-08T05:54:57.348230Z"
    }
   },
   "outputs": [],
   "source": [
    "cyt= RibonucleotideDB().getRibonucleotide(b\"C\")"
   ]
  },
  {
   "cell_type": "code",
   "execution_count": 50,
   "id": "701d88bf",
   "metadata": {
    "ExecuteTime": {
     "end_time": "2021-11-08T05:54:59.717149Z",
     "start_time": "2021-11-08T05:54:59.706141Z"
    }
   },
   "outputs": [
    {
     "name": "stdout",
     "output_type": "stream",
     "text": [
      "cytidine\n",
      "C\n",
      "243.2197\n",
      "243.0855\n",
      "C9H13N3O5\n",
      "False\n",
      "1-methyladenosine\n",
      "True\n"
     ]
    }
   ],
   "source": [
    "print(cyt.getName())\n",
    "print(cyt.getCode())\n",
    "print(cyt.getAvgMass())\n",
    "print(cyt.getMonoMass())\n",
    "print(cyt.getFormula())\n",
    "print(cyt.isModified())\n",
    "methyladenosine = RibonucleotideDB().getRibonucleotide(b\"m1A\")\n",
    "print(methyladenosine.getName())\n",
    "print(methyladenosine.isModified())"
   ]
  },
  {
   "cell_type": "markdown",
   "id": "d84a0bf7",
   "metadata": {},
   "source": [
    "# section 2:"
   ]
  },
  {
   "cell_type": "code",
   "execution_count": 51,
   "id": "15301321",
   "metadata": {
    "ExecuteTime": {
     "end_time": "2021-11-08T05:58:32.681734Z",
     "start_time": "2021-11-08T05:58:32.665776Z"
    }
   },
   "outputs": [],
   "source": [
    "seq=AASequence.fromString(\"DFPIANGER\")\n"
   ]
  },
  {
   "cell_type": "code",
   "execution_count": 52,
   "id": "954f1560",
   "metadata": {
    "ExecuteTime": {
     "end_time": "2021-11-08T06:02:24.743332Z",
     "start_time": "2021-11-08T06:02:24.738304Z"
    }
   },
   "outputs": [
    {
     "name": "stdout",
     "output_type": "stream",
     "text": [
      "Sequence: DFPIANGER\n",
      "Prefix: DFP\n",
      "Suffix: GER\n",
      "Concatenated: DFPIANGERDFPIANGER\n"
     ]
    }
   ],
   "source": [
    "pref=seq.getPrefix(3)\n",
    "suf=seq.getSuffix(3)\n",
    "newseq=seq+seq\n",
    "print(\"Sequence:\", seq)\n",
    "print(\"Prefix:\", pref)\n",
    "print(\"Suffix:\", suf)\n",
    "print(\"Concatenated:\", newseq)"
   ]
  },
  {
   "cell_type": "code",
   "execution_count": 56,
   "id": "47242a7c",
   "metadata": {
    "ExecuteTime": {
     "end_time": "2021-11-08T06:11:31.623376Z",
     "start_time": "2021-11-08T06:11:31.611421Z"
    }
   },
   "outputs": [],
   "source": [
    "MW=seq.getMonoWeight()\n",
    "mprec=seq.getMonoWeight(Residue.ResidueType.Full,2)\n",
    "mz=seq.getMonoWeight(Residue.ResidueType.Full, 2)\n",
    "mz = seq.getMZ(2) "
   ]
  },
  {
   "cell_type": "code",
   "execution_count": 57,
   "id": "f9f953f2",
   "metadata": {
    "ExecuteTime": {
     "end_time": "2021-11-08T06:11:33.618129Z",
     "start_time": "2021-11-08T06:11:33.609153Z"
    }
   },
   "outputs": [
    {
     "name": "stdout",
     "output_type": "stream",
     "text": [
      "Monoisotopic mass of peptide [M] is 1017.4879641373001\n",
      "Monoisotopic mass of peptide precursor [M+2H]2+ is 1019.5025170708421\n",
      "Monoisotopic m/z of [M+2H]2+ is 509.7512585354211\n"
     ]
    }
   ],
   "source": [
    "print(\"Monoisotopic mass of peptide [M] is\", MW)\n",
    "print(\"Monoisotopic mass of peptide precursor [M+2H]2+ is\", mprec)\n",
    "print(\"Monoisotopic m/z of [M+2H]2+ is\", mz)"
   ]
  },
  {
   "cell_type": "code",
   "execution_count": 58,
   "id": "f37179a0",
   "metadata": {
    "ExecuteTime": {
     "end_time": "2021-11-08T06:14:45.137060Z",
     "start_time": "2021-11-08T06:14:45.126067Z"
    }
   },
   "outputs": [
    {
     "name": "stdout",
     "output_type": "stream",
     "text": [
      "The peptide DFPIANGER consists of the following amino acids:\n",
      "Aspartate : 133.03750922330002\n",
      "Phenylalanine : 165.0789793509\n",
      "Proline : 115.0633292871\n",
      "Isoleucine : 131.0946294147\n",
      "Alanine : 89.04767922330001\n",
      "Asparagine : 132.0534932552\n",
      "Glycine : 75.0320291595\n",
      "Glutamate : 147.0531592871\n",
      "Arginine : 174.1116764466\n"
     ]
    }
   ],
   "source": [
    "print(\"The peptide\", seq, \"consists of the following amino acids:\")\n",
    "for aa in seq:\n",
    "    print(aa.getName(), \":\", aa.getMonoWeight())"
   ]
  },
  {
   "cell_type": "code",
   "execution_count": 60,
   "id": "66e57993",
   "metadata": {
    "ExecuteTime": {
     "end_time": "2021-11-08T06:17:01.657101Z",
     "start_time": "2021-11-08T06:17:01.648082Z"
    }
   },
   "outputs": [
    {
     "data": {
      "text/plain": [
       "'.(Pyro-carbamidomethyl)CPKCK(Label:13C(6)15N(2))CR'"
      ]
     },
     "execution_count": 60,
     "metadata": {},
     "output_type": "execute_result"
    }
   ],
   "source": [
    "seq = AASequence.fromString(\"C[143]PKCK(Label:13C(6)15N(2))CR\")\n",
    "seq.toString()"
   ]
  },
  {
   "cell_type": "code",
   "execution_count": 64,
   "id": "2493abf3",
   "metadata": {
    "ExecuteTime": {
     "end_time": "2021-11-08T06:22:47.131584Z",
     "start_time": "2021-11-08T06:22:47.114626Z"
    }
   },
   "outputs": [
    {
     "name": "stdout",
     "output_type": "stream",
     "text": [
      "N-Term Modification:  Pyro-carbamidomethyl (N-term C)\n"
     ]
    }
   ],
   "source": [
    "if seq.hasNTerminalModification():\n",
    "    print(\"N-Term Modification: \",seq.getNTerminalModification().getFullId())\n",
    "if seq.hasCTerminalModification():\n",
    "    print(\"C-Term Modification: \", seq.getCTerminalModification().getFullId())   "
   ]
  },
  {
   "cell_type": "code",
   "execution_count": 68,
   "id": "4983c72c",
   "metadata": {
    "ExecuteTime": {
     "end_time": "2021-11-08T06:27:37.889858Z",
     "start_time": "2021-11-08T06:27:37.879883Z"
    }
   },
   "outputs": [
    {
     "name": "stdout",
     "output_type": "stream",
     "text": [
      "Cysteine : 121.0197499533\n",
      "Proline : 115.0633292871\n",
      "Lysine : 146.1055284466\n",
      "Cysteine : 121.0197499533\n",
      "Lysine : 154.11972844660002 : Label:13C(6)15N(2)\n",
      "Cysteine : 121.0197499533\n",
      "Arginine : 174.1116764466\n"
     ]
    }
   ],
   "source": [
    "for i in seq:\n",
    "    if(i.isModified()):\n",
    "        print(i.getName(),\":\",i.getMonoWeight(),\":\",i.getModificationName())\n",
    "    else:\n",
    "        print(i.getName(),\":\",i.getMonoWeight())"
   ]
  },
  {
   "cell_type": "code",
   "execution_count": 69,
   "id": "ec29d048",
   "metadata": {
    "ExecuteTime": {
     "end_time": "2021-11-08T06:29:51.760919Z",
     "start_time": "2021-11-08T06:29:51.740964Z"
    }
   },
   "outputs": [
    {
     "name": "stdout",
     "output_type": "stream",
     "text": [
      "Peptide DFPIANGER has molecular formula C44H67N13O15\n"
     ]
    }
   ],
   "source": [
    "seq = AASequence.fromString(\"DFPIANGER\")\n",
    "\n",
    "print(\"Peptide\", seq, \"has molecular formula\",seq.getFormula())"
   ]
  },
  {
   "cell_type": "markdown",
   "id": "8a07aab5",
   "metadata": {},
   "source": [
    "## Isotope patterns"
   ]
  },
  {
   "cell_type": "code",
   "execution_count": null,
   "id": "83868af7",
   "metadata": {},
   "outputs": [],
   "source": []
  },
  {
   "cell_type": "markdown",
   "id": "1f19ccfe",
   "metadata": {},
   "source": [
    "## Fragment ions"
   ]
  },
  {
   "cell_type": "code",
   "execution_count": null,
   "id": "27eefc12",
   "metadata": {},
   "outputs": [],
   "source": []
  },
  {
   "cell_type": "markdown",
   "id": "f17386c7",
   "metadata": {},
   "source": [
    "## Modified Sequences"
   ]
  },
  {
   "cell_type": "code",
   "execution_count": 71,
   "id": "0fb6f929",
   "metadata": {
    "ExecuteTime": {
     "end_time": "2021-11-08T06:38:22.592339Z",
     "start_time": "2021-11-08T06:38:22.574248Z"
    }
   },
   "outputs": [],
   "source": [
    "seq = AASequence.fromString(\"PEPTIDESEKUEM(Oxidation)CER\")\n"
   ]
  },
  {
   "cell_type": "code",
   "execution_count": 72,
   "id": "b36485a1",
   "metadata": {
    "ExecuteTime": {
     "end_time": "2021-11-08T06:38:26.205226Z",
     "start_time": "2021-11-08T06:38:26.191264Z"
    }
   },
   "outputs": [
    {
     "name": "stdout",
     "output_type": "stream",
     "text": [
      "PEPTIDESEKUEMCER\n",
      "PEPTIDESEKUEM(Oxidation)CER\n",
      "PEPTIDESEKUEM(UniMod:35)CER\n",
      "PEPTIDESEKUEM[147]CER\n",
      "PEPTIDESEKUEM[147.035400017100017]CER\n",
      "DFPIAM(Oxidation)GER\n",
      "DFPIAM(Oxidation)GER\n",
      "DFPIAM(Oxidation)GER\n",
      "DFPIAM(Oxidation)GER\n",
      "DFPIAM(Oxidation)GER\n"
     ]
    }
   ],
   "source": [
    "    print(seq.toUnmodifiedString())\n",
    "    print(seq.toString())\n",
    "    print(seq.toUniModString())\n",
    "    print(seq.toBracketString())\n",
    "    print(seq.toBracketString(False))\n",
    "\n",
    "    print(AASequence.fromString(\"DFPIAM(UniMod:35)GER\"))\n",
    "    print(AASequence.fromString(\"DFPIAM[+16]GER\"))\n",
    "    print(AASequence.fromString(\"DFPIAM[+15.99]GER\"))\n",
    "    print(AASequence.fromString(\"DFPIAM[147]GER\"))\n",
    "    print(AASequence.fromString(\"DFPIAM[147.035405]GER\"))"
   ]
  },
  {
   "cell_type": "code",
   "execution_count": 73,
   "id": "de85f1c1",
   "metadata": {
    "ExecuteTime": {
     "end_time": "2021-11-08T06:42:21.307707Z",
     "start_time": "2021-11-08T06:42:21.292743Z"
    }
   },
   "outputs": [
    {
     "name": "stdout",
     "output_type": "stream",
     "text": [
      ".(Dimethyl)DFPIAMGER True\n",
      "DFPIAMGER.(Label:18O(2)) True\n",
      "DFPIAMGER(Phospho) False\n"
     ]
    }
   ],
   "source": [
    "    s = AASequence.fromString(\".(Dimethyl)DFPIAMGER.\")\n",
    "    print(s, s.hasNTerminalModification())\n",
    "    s = AASequence.fromString(\".DFPIAMGER.(Label:18O(2))\")\n",
    "    print(s, s.hasCTerminalModification())\n",
    "    s = AASequence.fromString(\".DFPIAMGER(Phospho).\")\n",
    "    print(s, s.hasCTerminalModification())"
   ]
  },
  {
   "cell_type": "code",
   "execution_count": 74,
   "id": "b74b6483",
   "metadata": {
    "ExecuteTime": {
     "end_time": "2021-11-08T06:43:21.235873Z",
     "start_time": "2021-11-08T06:43:21.214928Z"
    }
   },
   "outputs": [],
   "source": [
    "    bsa = FASTAEntry() # one entry in a FASTA file\n",
    "    bsa.sequence = \"MKWVTFISLLLLFSSAYSRGVFRRDTHKSEIAHRFKDLGE\"\n",
    "    bsa.description = \"BSA Bovine Albumin (partial sequence)\"\n",
    "    bsa.identifier = \"BSA\"\n",
    "    alb = FASTAEntry()\n",
    "    alb.sequence = \"MKWVTFISLLFLFSSAYSRGVFRRDAHKSEVAHRFKDLGE\"\n",
    "    alb.description = \"ALB Human Albumin (partial sequence)\"\n",
    "    alb.identifier = \"ALB\"\n",
    "\n",
    "    entries = [bsa, alb]\n",
    "\n",
    "    f = FASTAFile()\n",
    "    f.store(\"example.fasta\", entries)"
   ]
  },
  {
   "cell_type": "code",
   "execution_count": 76,
   "id": "82a1a427",
   "metadata": {
    "ExecuteTime": {
     "end_time": "2021-11-08T06:43:57.226571Z",
     "start_time": "2021-11-08T06:43:57.206668Z"
    }
   },
   "outputs": [
    {
     "name": "stdout",
     "output_type": "stream",
     "text": [
      "2\n",
      "BSA MKWVTFISLLLLFSSAYSRGVFRRDTHKSEIAHRFKDLGE\n",
      "ALB MKWVTFISLLFLFSSAYSRGVFRRDAHKSEVAHRFKDLGE\n"
     ]
    }
   ],
   "source": [
    "    entries = []\n",
    "    f = FASTAFile()\n",
    "    f.load(\"example.fasta\", entries)\n",
    "    print( len(entries) )\n",
    "    for e in entries:\n",
    "      print (e.identifier, e.sequence)"
   ]
  },
  {
   "cell_type": "code",
   "execution_count": null,
   "id": "c110a1ca",
   "metadata": {},
   "outputs": [],
   "source": []
  }
 ],
 "metadata": {
  "kernelspec": {
   "display_name": "Python 3",
   "language": "python",
   "name": "python3"
  },
  "language_info": {
   "codemirror_mode": {
    "name": "ipython",
    "version": 3
   },
   "file_extension": ".py",
   "mimetype": "text/x-python",
   "name": "python",
   "nbconvert_exporter": "python",
   "pygments_lexer": "ipython3",
   "version": "3.8.8"
  }
 },
 "nbformat": 4,
 "nbformat_minor": 5
}
