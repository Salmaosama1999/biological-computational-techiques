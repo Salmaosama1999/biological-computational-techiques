{
 "cells": [
  {
   "cell_type": "markdown",
   "id": "b22cf6b8",
   "metadata": {},
   "source": [
    "# section 2"
   ]
  },
  {
   "cell_type": "code",
   "execution_count": 1,
   "id": "324e441e",
   "metadata": {
    "ExecuteTime": {
     "end_time": "2021-12-17T09:52:37.429116Z",
     "start_time": "2021-12-17T09:52:31.643620Z"
    }
   },
   "outputs": [],
   "source": [
    "from pyopenms import *"
   ]
  },
  {
   "cell_type": "code",
   "execution_count": 4,
   "id": "57f9c323",
   "metadata": {
    "ExecuteTime": {
     "end_time": "2021-12-17T09:55:40.697248Z",
     "start_time": "2021-12-17T09:55:40.688230Z"
    }
   },
   "outputs": [
    {
     "name": "stdout",
     "output_type": "stream",
     "text": [
      "Sequence: DFPIANGER\n",
      "Prefix: DFPI\n",
      "Suffix: ANGER\n",
      "Concatenated: DFPIANGERDFPIANGER\n"
     ]
    }
   ],
   "source": [
    "new_seq = AASequence.fromString(\"DFPIANGER\")\n",
    "print(\"Sequence:\",new_seq)\n",
    "prefix = new_seq.getPrefix(4) \n",
    "print(\"Prefix:\", prefix)\n",
    "suffix = new_seq.getSuffix(5) \n",
    "print(\"Suffix:\", suffix)\n",
    "concat = new_seq + new_seq \n",
    "print(\"Concatenated:\", concat)\n"
   ]
  },
  {
   "cell_type": "code",
   "execution_count": 6,
   "id": "2763d9a0",
   "metadata": {
    "ExecuteTime": {
     "end_time": "2021-12-17T09:59:25.423221Z",
     "start_time": "2021-12-17T09:59:25.414247Z"
    }
   },
   "outputs": [
    {
     "name": "stdout",
     "output_type": "stream",
     "text": [
      "Monoisotopic mass of peptide [M] is 1017.4879641373001\n"
     ]
    }
   ],
   "source": [
    "mfull = new_seq.getMonoWeight()\n",
    "print(\"Monoisotopic mass of peptide [M] is\", mfull)"
   ]
  },
  {
   "cell_type": "code",
   "execution_count": 8,
   "id": "f25de7ca",
   "metadata": {
    "ExecuteTime": {
     "end_time": "2021-12-17T10:00:25.581742Z",
     "start_time": "2021-12-17T10:00:25.572873Z"
    }
   },
   "outputs": [
    {
     "name": "stdout",
     "output_type": "stream",
     "text": [
      "Monoisotopic mass of peptide precursor [M+2H]2+ is 1019.5025170708421\n"
     ]
    }
   ],
   "source": [
    "mprecursor = new_seq.getMonoWeight(Residue.ResidueType.Full, 2)\n",
    "print(\"Monoisotopic mass of peptide precursor [M+2H]2+ is\", mprecursor)"
   ]
  },
  {
   "cell_type": "code",
   "execution_count": 11,
   "id": "54caf5c8",
   "metadata": {
    "ExecuteTime": {
     "end_time": "2021-12-17T10:01:28.640292Z",
     "start_time": "2021-12-17T10:01:28.634309Z"
    }
   },
   "outputs": [
    {
     "name": "stdout",
     "output_type": "stream",
     "text": [
      "Monoisotopic m/z of [M+2H]2+ is 509.7512585354211\n"
     ]
    }
   ],
   "source": [
    "mz = new_seq.getMZ(2)\n",
    "print(\"Monoisotopic m/z of [M+2H]2+ is\", mz)"
   ]
  },
  {
   "cell_type": "code",
   "execution_count": 12,
   "id": "b69f7221",
   "metadata": {
    "ExecuteTime": {
     "end_time": "2021-12-17T10:08:32.208851Z",
     "start_time": "2021-12-17T10:08:32.116069Z"
    }
   },
   "outputs": [
    {
     "name": "stdout",
     "output_type": "stream",
     "text": [
      "The peptide DFPIANGER consists of the following amino acids:\n",
      "Aspartate : 133.0375092233\n",
      "Phenylalanine : 165.0789793509\n",
      "Proline : 115.0633292871\n",
      "Isoleucine : 131.0946294147\n",
      "Alanine : 89.04767922330001\n",
      "Asparagine : 132.0534932552\n",
      "Glycine : 75.0320291595\n",
      "Glutamate : 147.05315928710002\n",
      "Arginine : 174.1116764466\n"
     ]
    }
   ],
   "source": [
    "aminoAcid = AASequence.fromString(\"DFPIANGER\")\n",
    "\n",
    "print(\"The peptide\", str(aminoAcid), \"consists of the following amino acids:\")\n",
    "for aa in aminoAcid:\n",
    "    print(aa.getName(), \":\", aa.getMonoWeight())"
   ]
  },
  {
   "cell_type": "code",
   "execution_count": 13,
   "id": "bf8f436f",
   "metadata": {
    "ExecuteTime": {
     "end_time": "2021-12-17T10:10:34.095715Z",
     "start_time": "2021-12-17T10:10:33.463470Z"
    }
   },
   "outputs": [
    {
     "name": "stdout",
     "output_type": "stream",
     "text": [
      ".(Pyro-carbamidomethyl)CPKCK(Label:13C(6)15N(2))CR\n"
     ]
    }
   ],
   "source": [
    "seq = AASequence.fromString(\"C[143]PKCK(Label:13C(6)15N(2))CR\")\n",
    "print(seq)"
   ]
  },
  {
   "cell_type": "code",
   "execution_count": 14,
   "id": "b2ef01fc",
   "metadata": {
    "ExecuteTime": {
     "end_time": "2021-12-17T10:11:31.712335Z",
     "start_time": "2021-12-17T10:11:31.658704Z"
    }
   },
   "outputs": [
    {
     "name": "stdout",
     "output_type": "stream",
     "text": [
      "N-Term Modification:  Pyro-carbamidomethyl (N-term C)\n"
     ]
    }
   ],
   "source": [
    "if seq.hasNTerminalModification():\n",
    "    print(\"N-Term Modification: \", seq.getNTerminalModification().getFullId())\n",
    "if seq.hasCTerminalModification():\n",
    "    print(\"C-Term Modification: \", seq.getCTerminalModification().getFullId())"
   ]
  },
  {
   "cell_type": "code",
   "execution_count": 15,
   "id": "c2c5170a",
   "metadata": {
    "ExecuteTime": {
     "end_time": "2021-12-17T10:12:22.775016Z",
     "start_time": "2021-12-17T10:12:22.756064Z"
    }
   },
   "outputs": [
    {
     "name": "stdout",
     "output_type": "stream",
     "text": [
      "Cysteine : 121.0197499533\n",
      "Proline : 115.0633292871\n",
      "Lysine : 146.1055284466\n",
      "Cysteine : 121.0197499533\n",
      "Lysine : 154.11972844660002 : Label:13C(6)15N(2)\n",
      "Cysteine : 121.0197499533\n",
      "Arginine : 174.1116764466\n"
     ]
    }
   ],
   "source": [
    "for aa in seq:\n",
    "    if (aa.isModified()):\n",
    "        print(aa.getName(), \":\", aa.getMonoWeight(), \":\", aa.getModificationName())\n",
    "    else:\n",
    "        print(aa.getName(), \":\", aa.getMonoWeight())"
   ]
  },
  {
   "cell_type": "markdown",
   "id": "d56f312b",
   "metadata": {},
   "source": [
    "# Molecular formula"
   ]
  },
  {
   "cell_type": "code",
   "execution_count": 16,
   "id": "abd4be38",
   "metadata": {
    "ExecuteTime": {
     "end_time": "2021-12-17T10:14:18.806637Z",
     "start_time": "2021-12-17T10:14:18.704756Z"
    }
   },
   "outputs": [
    {
     "name": "stdout",
     "output_type": "stream",
     "text": [
      "Peptide DFPIANGER has molecular formula C44H67N13O15\n"
     ]
    }
   ],
   "source": [
    "seq = AASequence.fromString(\"DFPIANGER\")\n",
    "seq_formula = seq.getFormula()\n",
    "print(\"Peptide\", seq, \"has molecular formula\", seq_formula)"
   ]
  },
  {
   "cell_type": "markdown",
   "id": "80b6da0e",
   "metadata": {},
   "source": [
    "# Isotope patterns"
   ]
  },
  {
   "cell_type": "code",
   "execution_count": 18,
   "id": "3934725a",
   "metadata": {
    "ExecuteTime": {
     "end_time": "2021-12-17T10:17:07.917787Z",
     "start_time": "2021-12-17T10:17:07.897585Z"
    }
   },
   "outputs": [
    {
     "name": "stdout",
     "output_type": "stream",
     "text": [
      "Isotope 1017.4879641373 has abundance 56.81047439575195 %\n",
      "Isotope 1018.4913189751 has abundance 30.52588701248169 %\n",
      "Isotope 1019.4946738128999 has abundance 9.801062196493149 %\n",
      "Isotope 1020.4980286507 has abundance 2.328959107398987 %\n",
      "Isotope 1021.5013834885 has abundance 0.44921189546585083 %\n",
      "Isotope 1022.5047383263 has abundance 0.07377508445642889 %\n",
      "Isotope 1023.5080931640999 has abundance 0.010627075243974105 %\n"
     ]
    }
   ],
   "source": [
    "coarse_isotopes = seq_formula.getIsotopeDistribution( CoarseIsotopePatternGenerator(7) )\n",
    "for iso in coarse_isotopes.getContainer():\n",
    "    print (\"Isotope\", iso.getMZ(), \"has abundance\", iso.getIntensity()*100, \"%\")"
   ]
  },
  {
   "cell_type": "code",
   "execution_count": 19,
   "id": "a8144771",
   "metadata": {
    "ExecuteTime": {
     "end_time": "2021-12-17T10:18:40.456687Z",
     "start_time": "2021-12-17T10:18:40.312621Z"
    }
   },
   "outputs": [
    {
     "name": "stdout",
     "output_type": "stream",
     "text": [
      "Isotope 1017.4879641373001 has abundance 56.80969953536987 %\n",
      "Isotope 1018.4849991373001 has abundance 2.7278145775198936 %\n",
      "Isotope 1018.4913191373001 has abundance 27.035287022590637 %\n",
      "Isotope 1018.4921811373001 has abundance 0.3246041014790535 %\n",
      "Isotope 1018.4942408854 has abundance 0.4377691075205803 %\n",
      "Isotope 1019.4883541373001 has abundance 1.2981452979147434 %\n",
      "Isotope 1019.4922181373001 has abundance 1.7511537298560143 %\n",
      "Isotope 1019.4946741373 has abundance 6.286735832691193 %\n",
      "Isotope 1019.4975958854001 has abundance 0.2083308296278119 %\n",
      "Isotope 1020.4917091373001 has abundance 0.3018683288246393 %\n",
      "Isotope 1020.4955731373002 has abundance 0.833360105752945 %\n",
      "Isotope 1020.4980291373 has abundance 0.9519387967884541 %\n",
      "Isotope 1021.4989281373 has abundance 0.1937880413606763 %\n"
     ]
    }
   ],
   "source": [
    "fine_isotopes = seq_formula.getIsotopeDistribution( FineIsotopePatternGenerator(0.01) )\n",
    "for iso in fine_isotopes.getContainer():\n",
    "    print (\"Isotope\", iso.getMZ(), \"has abundance\", iso.getIntensity()*100, \"%\")"
   ]
  },
  {
   "cell_type": "code",
   "execution_count": 20,
   "id": "35808168",
   "metadata": {
    "ExecuteTime": {
     "end_time": "2021-12-17T10:22:35.522128Z",
     "start_time": "2021-12-17T10:22:35.508280Z"
    }
   },
   "outputs": [
    {
     "name": "stdout",
     "output_type": "stream",
     "text": [
      "DFPIANGER\n"
     ]
    }
   ],
   "source": [
    "print(new_seq)"
   ]
  },
  {
   "cell_type": "code",
   "execution_count": 26,
   "id": "8bc68e4b",
   "metadata": {
    "ExecuteTime": {
     "end_time": "2021-12-17T10:23:52.487805Z",
     "start_time": "2021-12-17T10:23:52.478831Z"
    }
   },
   "outputs": [
    {
     "name": "stdout",
     "output_type": "stream",
     "text": [
      "DFPIANGER\n"
     ]
    }
   ],
   "source": [
    "print(seq)"
   ]
  },
  {
   "cell_type": "code",
   "execution_count": 30,
   "id": "40ddb063",
   "metadata": {
    "ExecuteTime": {
     "end_time": "2021-12-17T10:27:34.057427Z",
     "start_time": "2021-12-17T10:27:34.052441Z"
    },
    "scrolled": true
   },
   "outputs": [
    {
     "name": "stdout",
     "output_type": "stream",
     "text": [
      "y3 ion sequence: GER\n"
     ]
    }
   ],
   "source": [
    "suffix = seq.getSuffix(3)\n",
    "print(\"y3 ion sequence:\", suffix)"
   ]
  },
  {
   "cell_type": "code",
   "execution_count": 29,
   "id": "525a3fc6",
   "metadata": {
    "ExecuteTime": {
     "end_time": "2021-12-17T10:27:07.335238Z",
     "start_time": "2021-12-17T10:27:07.317287Z"
    }
   },
   "outputs": [
    {
     "name": "stdout",
     "output_type": "stream",
     "text": [
      "C13H24N6O6\n",
      "C44H67N13O15\n"
     ]
    }
   ],
   "source": [
    "print(suffix.getFormula())\n",
    "print(seq.getFormula())"
   ]
  },
  {
   "cell_type": "markdown",
   "id": "85e2d38e",
   "metadata": {},
   "source": [
    "# Fragment ions"
   ]
  },
  {
   "cell_type": "code",
   "execution_count": 39,
   "id": "ff82bb24",
   "metadata": {
    "ExecuteTime": {
     "end_time": "2021-12-17T10:37:41.808047Z",
     "start_time": "2021-12-17T10:37:41.799006Z"
    }
   },
   "outputs": [
    {
     "name": "stdout",
     "output_type": "stream",
     "text": [
      "formula & Full  C13H24N6O6\n",
      "Weight & full 362.19028769914206\n",
      "formula & YIon  C13H24N6O6\n",
      "Weight & YIon 181.09514384957103\n",
      "formula & XIon  C14H22N6O7\n",
      "Weight & XIon 194.08477631767101\n",
      "formula &BIon  C13H22N6O5\n",
      "Weight & BIon 344.17972263534205\n"
     ]
    }
   ],
   "source": [
    "y3_formula = suffix.getFormula(Residue.ResidueType.Full, 2) # y3++ ion\n",
    "print(\"formula & Full \",y3_formula)\n",
    "print(\"Weight & full\",suffix.getMonoWeight(Residue.ResidueType.Full, 2))\n",
    "y3_formula = suffix.getFormula(Residue.ResidueType.YIon, 2) # y3++ ion\n",
    "print(\"formula & YIon \",y3_formula)\n",
    "print(\"Weight & YIon\",suffix.getMonoWeight(Residue.ResidueType.YIon, 2) / 2.0 )# CORRECT\n",
    "y3_formula = suffix.getFormula(Residue.ResidueType.XIon, 2)\n",
    "print(\"formula & XIon \",y3_formula)\n",
    "print(\"Weight & XIon\",suffix.getMonoWeight(Residue.ResidueType.XIon, 2) / 2.0 )# CORRECT\n",
    "y3_formula = suffix.getFormula(Residue.ResidueType.BIon, 2)\n",
    "print(\"formula &BIon \",y3_formula)\n",
    "print(\"Weight & BIon\",suffix.getMonoWeight(Residue.ResidueType.BIon, 2)) "
   ]
  },
  {
   "cell_type": "code",
   "execution_count": 40,
   "id": "d6fc69aa",
   "metadata": {
    "ExecuteTime": {
     "end_time": "2021-12-17T10:39:21.148352Z",
     "start_time": "2021-12-17T10:39:21.139414Z"
    }
   },
   "outputs": [
    {
     "name": "stdout",
     "output_type": "stream",
     "text": [
      "y3 mz: 181.09514384957103\n",
      "y3 molecular formula: C13H24N6O6\n"
     ]
    }
   ],
   "source": [
    "y3_formula = suffix.getFormula(Residue.ResidueType.YIon, 2)\n",
    "print(\"y3 mz:\", suffix.getMonoWeight(Residue.ResidueType.YIon, 2) / 2.0 )\n",
    "print(\"y3 molecular formula:\", y3_formula)"
   ]
  },
  {
   "cell_type": "markdown",
   "id": "12e4bb8d",
   "metadata": {},
   "source": [
    "# Modified Sequences"
   ]
  },
  {
   "cell_type": "code",
   "execution_count": 42,
   "id": "c7fc1d02",
   "metadata": {
    "ExecuteTime": {
     "end_time": "2021-12-17T11:35:53.967334Z",
     "start_time": "2021-12-17T11:35:53.885427Z"
    }
   },
   "outputs": [
    {
     "name": "stdout",
     "output_type": "stream",
     "text": [
      "PEPTIDESEKUEMCER\n",
      "PEPTIDESEKUEM(Oxidation)CER\n",
      "PEPTIDESEKUEM(UniMod:35)CER\n",
      "PEPTIDESEKUEM[147]CER\n",
      "PEPTIDESEKUEM[147.03540001709996]CER\n",
      "DFPIAM(Oxidation)GER\n",
      "DFPIAM(Oxidation)GER\n",
      "DFPIAM(Oxidation)GER\n",
      "DFPIAM(Oxidation)GER\n",
      "DFPIAM(Oxidation)GER\n"
     ]
    }
   ],
   "source": [
    " seq = AASequence.fromString(\"PEPTIDESEKUEM(Oxidation)CER\")\n",
    "print(seq.toUnmodifiedString())\n",
    "print(seq.toString())\n",
    "print(seq.toUniModString())\n",
    "print(seq.toBracketString())\n",
    "print(seq.toBracketString(False))\n",
    "\n",
    "print(AASequence.fromString(\"DFPIAM(UniMod:35)GER\"))\n",
    "print(AASequence.fromString(\"DFPIAM[+16]GER\"))\n",
    "print(AASequence.fromString(\"DFPIAM[+15.99]GER\"))\n",
    "print(AASequence.fromString(\"DFPIAM[147]GER\"))\n",
    "print(AASequence.fromString(\"DFPIAM[147.035405]GER\"))"
   ]
  },
  {
   "cell_type": "markdown",
   "id": "631b3837",
   "metadata": {},
   "source": [
    "# Proteins and FASTA files"
   ]
  },
  {
   "cell_type": "code",
   "execution_count": 44,
   "id": "56564786",
   "metadata": {
    "ExecuteTime": {
     "end_time": "2021-12-17T11:39:56.927079Z",
     "start_time": "2021-12-17T11:39:56.817581Z"
    }
   },
   "outputs": [],
   "source": [
    "bsa = FASTAEntry()\n",
    "bsa.sequence = \"MKWVTFISLLLLFSSAYSRGVFRRDTHKSEIAHRFKDLGE\"\n",
    "bsa.description = \"BSA Bovine Albumin (partial sequence)\"\n",
    "bsa.identifier = \"BSA\"\n",
    "alb = FASTAEntry()\n",
    "alb.sequence = \"MKWVTFISLLFLFSSAYSRGVFRRDAHKSEVAHRFKDLGE\"\n",
    "alb.description = \"ALB Human Albumin (partial sequence)\"\n",
    "alb.identifier = \"ALB\"\n",
    "\n",
    "entries = [bsa, alb]\n",
    "f = FASTAFile()\n",
    "f.store(\"example.fasta\", entries)"
   ]
  },
  {
   "cell_type": "code",
   "execution_count": 47,
   "id": "3c656521",
   "metadata": {
    "ExecuteTime": {
     "end_time": "2021-12-17T11:45:27.701649Z",
     "start_time": "2021-12-17T11:45:27.690679Z"
    }
   },
   "outputs": [
    {
     "name": "stdout",
     "output_type": "stream",
     "text": [
      "2\n",
      "BSA MKWVTFISLLLLFSSAYSRGVFRRDTHKSEIAHRFKDLGE   BSA Bovine Albumin (partial sequence)\n",
      "ALB MKWVTFISLLFLFSSAYSRGVFRRDAHKSEVAHRFKDLGE   ALB Human Albumin (partial sequence)\n"
     ]
    }
   ],
   "source": [
    "    entries = []\n",
    "    f = FASTAFile()\n",
    "    f.load(\"example.fasta\", entries)\n",
    "    print( len(entries) )\n",
    "    for e in entries:\n",
    "      print (e.identifier, e.sequence, \" \",e.description)\n"
   ]
  },
  {
   "cell_type": "code",
   "execution_count": null,
   "id": "fb105feb",
   "metadata": {},
   "outputs": [],
   "source": []
  }
 ],
 "metadata": {
  "kernelspec": {
   "display_name": "Python 3",
   "language": "python",
   "name": "python3"
  },
  "language_info": {
   "codemirror_mode": {
    "name": "ipython",
    "version": 3
   },
   "file_extension": ".py",
   "mimetype": "text/x-python",
   "name": "python",
   "nbconvert_exporter": "python",
   "pygments_lexer": "ipython3",
   "version": "3.8.8"
  }
 },
 "nbformat": 4,
 "nbformat_minor": 5
}
