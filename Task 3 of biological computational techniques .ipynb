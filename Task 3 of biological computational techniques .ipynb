{
 "cells": [
  {
   "attachments": {},
   "cell_type": "markdown",
   "id": "f81717cd",
   "metadata": {},
   "source": [
    "# Section 3"
   ]
  },
  {
   "attachments": {},
   "cell_type": "markdown",
   "id": "107e63b0",
   "metadata": {},
   "source": [
    "## Is the next equation correct and why?\n",
    "### the mass of VAKA = mass(V) + mass(A) + mass(K) + mass(A)\n",
    "### Answer is: NO ,Because when two amino acid is combine with each other that cause of lose the water molecule(H2O) then we obsereved that the mass of VAKA < mass(V) + mass(A) + mass(K) + mass(A)\n"
   ]
  },
  {
   "cell_type": "code",
   "execution_count": 1,
   "id": "95e3e23f",
   "metadata": {
    "ExecuteTime": {
     "end_time": "2021-12-17T12:39:52.518857Z",
     "start_time": "2021-12-17T12:39:52.361302Z"
    }
   },
   "outputs": [
    {
     "name": "stdout",
     "output_type": "stream",
     "text": [
      "Mass sequence 387.2481710527\n"
     ]
    }
   ],
   "source": [
    "from pyopenms import *\n",
    "seq = AASequence.fromString(\"VAKA\")\n",
    "print(\"Mass sequence\",seq.getMonoWeight())\n"
   ]
  },
  {
   "cell_type": "code",
   "execution_count": 2,
   "id": "103568bc",
   "metadata": {
    "ExecuteTime": {
     "end_time": "2021-12-17T12:42:21.335139Z",
     "start_time": "2021-12-17T12:42:21.283141Z"
    }
   },
   "outputs": [
    {
     "name": "stdout",
     "output_type": "stream",
     "text": [
      "The masss of each amino acid inside the pipted: VAKA\n",
      "Valine : 117.0789793509\n",
      "Alanine : 89.0476792233\n",
      "Lysine : 146.1055284466\n",
      "Alanine : 89.0476792233\n",
      "441.2798662441\n"
     ]
    }
   ],
   "source": [
    "sum = 0\n",
    "print(\"The masss of each amino acid inside the pipted:\", str(seq))\n",
    "for s in seq:\n",
    "    print(s.getName(),\":\",s.getMonoWeight())\n",
    "    sum=sum+s.getMonoWeight()\n",
    "print(sum)"
   ]
  },
  {
   "cell_type": "code",
   "execution_count": null,
   "id": "c032d867",
   "metadata": {},
   "outputs": [],
   "source": []
  }
 ],
 "metadata": {
  "kernelspec": {
   "display_name": "Python 3",
   "language": "python",
   "name": "python3"
  },
  "language_info": {
   "codemirror_mode": {
    "name": "ipython",
    "version": 3
   },
   "file_extension": ".py",
   "mimetype": "text/x-python",
   "name": "python",
   "nbconvert_exporter": "python",
   "pygments_lexer": "ipython3",
   "version": "3.8.8"
  }
 },
 "nbformat": 4,
 "nbformat_minor": 5
}
