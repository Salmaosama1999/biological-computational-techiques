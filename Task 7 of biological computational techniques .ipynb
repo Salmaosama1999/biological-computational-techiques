{
 "cells": [
  {
   "cell_type": "markdown",
   "id": "caa55bbb",
   "metadata": {},
   "source": [
    "# section 7"
   ]
  },
  {
   "cell_type": "markdown",
   "id": "3e6aa0d8",
   "metadata": {},
   "source": [
    "# Decoy Human"
   ]
  },
  {
   "cell_type": "code",
   "execution_count": 2,
   "id": "5760ac94",
   "metadata": {
    "ExecuteTime": {
     "end_time": "2021-12-17T16:51:44.768760Z",
     "start_time": "2021-12-17T16:51:44.679716Z"
    }
   },
   "outputs": [],
   "source": [
    "from pyopenms import *\n",
    "Targets=[]\n",
    "Decoys=[]\n",
    "FASTAFile().load(\"human_fasta.fasta\",Targets)\n",
    "Decoy=DecoyGenerator()\n",
    "for entry in Targets:\n",
    "    rec=FASTAEntry(entry)\n",
    "    rec.identifier=\"Decoy-\"+rec.identifier\n",
    "    seq=AASequence().fromString(rec.sequence)\n",
    "    rec.sequence=Decoy.reverseProtein(seq).toString()\n",
    "    Decoys.append(rec)\n",
    "FASTAFile().store(\"Decoy_human_fasta\",Targets+Decoys)"
   ]
  },
  {
   "cell_type": "markdown",
   "id": "fa877818",
   "metadata": {},
   "source": [
    "# Decoy Yeast"
   ]
  },
  {
   "cell_type": "code",
   "execution_count": 3,
   "id": "7731d4f6",
   "metadata": {
    "ExecuteTime": {
     "end_time": "2021-12-17T16:57:15.244160Z",
     "start_time": "2021-12-17T16:57:15.231199Z"
    }
   },
   "outputs": [],
   "source": [
    "from pyopenms import *\n",
    "Targets=[]\n",
    "Decoys=[]\n",
    "FASTAFile().load(\"yeast_fasta.fasta\",Targets)\n",
    "Decoy=DecoyGenerator()\n",
    "for entry in Targets:\n",
    "    rec=FASTAEntry(entry)\n",
    "    rec.identifier=\"Decoy-\"+rec.identifier\n",
    "    seq=AASequence().fromString(rec.sequence)\n",
    "    rec.sequence=Decoy.reverseProtein(seq).toString()\n",
    "    Decoys.append(rec)\n",
    "FASTAFile().store(\"Decoy_ yeast_fasta\",Targets+Decoys)"
   ]
  }
 ],
 "metadata": {
  "kernelspec": {
   "display_name": "Python 3",
   "language": "python",
   "name": "python3"
  },
  "language_info": {
   "codemirror_mode": {
    "name": "ipython",
    "version": 3
   },
   "file_extension": ".py",
   "mimetype": "text/x-python",
   "name": "python",
   "nbconvert_exporter": "python",
   "pygments_lexer": "ipython3",
   "version": "3.8.8"
  }
 },
 "nbformat": 4,
 "nbformat_minor": 5
}
